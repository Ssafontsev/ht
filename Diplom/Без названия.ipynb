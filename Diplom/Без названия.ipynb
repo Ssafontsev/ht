{
 "cells": [
  {
   "cell_type": "code",
   "execution_count": 3,
   "id": "distinct-apollo",
   "metadata": {},
   "outputs": [],
   "source": [
    "import requests\n",
    "import time\n",
    "import json\n",
    "from tqdm import tqdm\n",
    "\n",
    "class VkUser:\n",
    "    url = 'https://api.vk.com/method/'\n",
    "\n",
    "    def __init__(self, token, version):\n",
    "        self.token = token\n",
    "        self.version = version\n",
    "        self.params = {\n",
    "            'access_token': self.token,\n",
    "            'v': self.version,\n",
    "        }\n",
    "        self.owner_id = requests.get(self.url + 'users.get', self.params).json()['response'][0]['id']\n",
    "\n",
    "    def get_photos_links(self, user_id: str, qty_photos: str):\n",
    "        if user_id is None:\n",
    "            user_id = self.owner_id\n",
    "        followers_url = self.url + 'photos.get'\n",
    "        followers_params = {\n",
    "            'album_id': 'profile',\n",
    "            'count': qty_photos,\n",
    "            'user_id': user_id,\n",
    "            'extended': 1\n",
    "        }\n",
    "        res = requests.get(followers_url, params={**self.params, **followers_params})\n",
    "        complete_list = res.json()['response']['items']\n",
    "        photos_to_upload = []\n",
    "        url_names = []\n",
    "        for line in complete_list:\n",
    "            photo_info = {}\n",
    "            qty_likes = line['likes']['count']\n",
    "            photo_date = line['date']\n",
    "            biggest_photo = line['sizes'][-1]\n",
    "            photo_name = f'{qty_likes}.jpg'\n",
    "            for item in photos_to_upload:\n",
    "                if item['file_name'] == photo_name:\n",
    "                    photo_name = f'{qty_likes}_{photo_date}.jpg'\n",
    "            url_names.append([biggest_photo['url'], photo_name])\n",
    "            photo_info['file_name'] = photo_name\n",
    "            photo_info['size'] = biggest_photo['type']\n",
    "            photos_to_upload.append(photo_info)\n",
    "        with open('about_photos.json', 'w') as json_file:\n",
    "            json.dump(photos_to_upload, json_file)\n",
    "        return url_names"
   ]
  },
  {
   "cell_type": "code",
   "execution_count": null,
   "id": "unnecessary-frederick",
   "metadata": {},
   "outputs": [],
   "source": []
  },
  {
   "cell_type": "code",
   "execution_count": null,
   "id": "aware-territory",
   "metadata": {},
   "outputs": [],
   "source": []
  }
 ],
 "metadata": {
  "kernelspec": {
   "display_name": "Python 3",
   "language": "python",
   "name": "python3"
  },
  "language_info": {
   "codemirror_mode": {
    "name": "ipython",
    "version": 3
   },
   "file_extension": ".py",
   "mimetype": "text/x-python",
   "name": "python",
   "nbconvert_exporter": "python",
   "pygments_lexer": "ipython3",
   "version": "3.9.1"
  }
 },
 "nbformat": 4,
 "nbformat_minor": 5
}
